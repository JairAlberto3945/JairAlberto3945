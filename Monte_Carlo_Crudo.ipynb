{
  "nbformat": 4,
  "nbformat_minor": 0,
  "metadata": {
    "colab": {
      "provenance": [],
      "authorship_tag": "ABX9TyOwft1Y2i2rBgyqRW9iMdmQ",
      "include_colab_link": true
    },
    "kernelspec": {
      "name": "python3",
      "display_name": "Python 3"
    },
    "language_info": {
      "name": "python"
    }
  },
  "cells": [
    {
      "cell_type": "markdown",
      "metadata": {
        "id": "view-in-github",
        "colab_type": "text"
      },
      "source": [
        "<a href=\"https://colab.research.google.com/github/JairAlberto3945/JairAlberto3945/blob/main/Monte_Carlo_Crudo.ipynb\" target=\"_parent\"><img src=\"https://colab.research.google.com/assets/colab-badge.svg\" alt=\"Open In Colab\"/></a>"
      ]
    },
    {
      "cell_type": "code",
      "source": [
        "import numpy as np\n",
        "import random as rd\n",
        "import matplotlib.pyplot as plt"
      ],
      "metadata": {
        "id": "nl5E_BxuqtFh"
      },
      "execution_count": 13,
      "outputs": []
    },
    {
      "cell_type": "code",
      "source": [
        "# Definimos la función g(x) = sqrt(arctan(x))\n",
        "def g(x):\n",
        "    return np.sqrt(np.arctan(x))"
      ],
      "metadata": {
        "id": "6nqn55ncq4lA"
      },
      "execution_count": 26,
      "outputs": []
    },
    {
      "cell_type": "code",
      "source": [
        "# Parámetros del problema\n",
        "a, b = 0, 1  # Intervalo de integración\n",
        "N = 1000000  # Número de muestras"
      ],
      "metadata": {
        "id": "0-EUHC1yvUB5"
      },
      "execution_count": 27,
      "outputs": []
    },
    {
      "cell_type": "code",
      "source": [
        "# Método Monte Carlo crudo (Media Muestral)\n",
        "def monte_carlo_raw(a, b, N):\n",
        "    x_samples = np.random.uniform(a, b, N)  # Generamos N muestras en [a,b]\n",
        "    mean_value = np.mean(g(x_samples))  # Calculamos la media de g(x)\n",
        "    integral = (b - a) * mean_value  # Estimación de la integral\n",
        "    return integral"
      ],
      "metadata": {
        "id": "E_KYJeczrQEp"
      },
      "execution_count": 28,
      "outputs": []
    },
    {
      "cell_type": "code",
      "execution_count": 39,
      "metadata": {
        "colab": {
          "base_uri": "https://localhost:8080/"
        },
        "id": "PbGWpv8WpYX1",
        "outputId": "93272759-b76e-4f0f-96b1-86d8c9331c03"
      },
      "outputs": [
        {
          "output_type": "stream",
          "name": "stdout",
          "text": [
            "Estimación de la integral: 0.629598\n"
          ]
        }
      ],
      "source": [
        "# Estimación de la integral\n",
        "resultado = monte_carlo_raw(a, b, N)\n",
        "print(f\"Estimación de la integral: {resultado:.6f}\")"
      ]
    }
  ]
}