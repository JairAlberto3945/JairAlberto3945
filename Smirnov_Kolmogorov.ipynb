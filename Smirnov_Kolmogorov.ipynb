{
  "nbformat": 4,
  "nbformat_minor": 0,
  "metadata": {
    "colab": {
      "provenance": [],
      "authorship_tag": "ABX9TyM6LrzQ71NaqQcCrkJp7M4M",
      "include_colab_link": true
    },
    "kernelspec": {
      "name": "python3",
      "display_name": "Python 3"
    },
    "language_info": {
      "name": "python"
    }
  },
  "cells": [
    {
      "cell_type": "markdown",
      "metadata": {
        "id": "view-in-github",
        "colab_type": "text"
      },
      "source": [
        "<a href=\"https://colab.research.google.com/github/JairAlberto3945/JairAlberto3945/blob/main/Smirnov_Kolmogorov.ipynb\" target=\"_parent\"><img src=\"https://colab.research.google.com/assets/colab-badge.svg\" alt=\"Open In Colab\"/></a>"
      ]
    },
    {
      "cell_type": "markdown",
      "source": [
        "*** Huerta Diaz Jair Alberto***\n",
        "\n",
        "Método de Kolmogorov-Smirnov"
      ],
      "metadata": {
        "id": "ihBiCvOC54Yo"
      }
    },
    {
      "cell_type": "code",
      "execution_count": 1,
      "metadata": {
        "id": "z4nlZsqJ4lgU"
      },
      "outputs": [],
      "source": [
        "import numpy as np\n",
        "import scipy.stats as stats\n",
        "import pandas as pd"
      ]
    },
    {
      "cell_type": "code",
      "source": [
        "# Datos proporcionados\n",
        "numeros = np.array([\n",
        "    0.048, 0.926, 0.368, 0.787, 0.298, 0.591, 0.007, 0.437, 0.594,\n",
        "    0.199, 0.478, 0.551, 0.178, 0.086, 0.157, 0.166, 0.362, 0.411,\n",
        "    0.951, 0.401, 0.932, 0.533, 0.545, 0.772, 0.631\n",
        "])\n",
        "\n",
        "# Ordenamos los valores\n",
        "numeros_sorted = np.sort(numeros)\n",
        "n = len(numeros_sorted)\n",
        "print(numeros_sorted)"
      ],
      "metadata": {
        "colab": {
          "base_uri": "https://localhost:8080/"
        },
        "id": "5vnjylvy5RRA",
        "outputId": "c93d6d6d-9b67-4d04-b61d-6e50f058a125"
      },
      "execution_count": 4,
      "outputs": [
        {
          "output_type": "stream",
          "name": "stdout",
          "text": [
            "[0.007 0.048 0.086 0.157 0.166 0.178 0.199 0.298 0.362 0.368 0.401 0.411\n",
            " 0.437 0.478 0.533 0.545 0.551 0.591 0.594 0.631 0.772 0.787 0.926 0.932\n",
            " 0.951]\n"
          ]
        }
      ]
    },
    {
      "cell_type": "code",
      "source": [
        "# Calculamos F(i) = i/n\n",
        "F_i = np.arange(1, n + 1) / n\n",
        "\n",
        "# Calculamos D+ y D-\n",
        "D_plus = np.abs(F_i - numeros_sorted)\n",
        "D_minus = np.abs(numeros_sorted - (np.arange(n) / n))\n",
        "\n",
        "# Estadístico D\n",
        "D = max(np.max(D_plus), np.max(D_minus))\n",
        "\n",
        "# Valor crítico para alfa = 0.05 y n=25 (según tabla de KS)\n",
        "alfa = 0.05\n",
        "D_critico = 1.36 / np.sqrt(n)\n",
        "# Evaluamos la hipótesis\n",
        "hipotesis = \"Se acepta H0 (Distribución uniforme)\" if D <= D_critico else \"Se rechaza H0 (No es uniforme)\"\n",
        "# Crear tabla de resultados\n",
        "df = pd.DataFrame({\n",
        "    'i': np.arange(1, n + 1),\n",
        "    'Numeros Ordenados': numeros_sorted,\n",
        "    'F(i) = i/n': F_i,\n",
        "    '|F(i) - X(i)|': D_plus,\n",
        "    '|X(i) - (i-1)/n|': D_minus\n",
        "  })"
      ],
      "metadata": {
        "id": "rrigUeZG5WR0"
      },
      "execution_count": 7,
      "outputs": []
    },
    {
      "cell_type": "code",
      "source": [
        "# Mostrar resultados\n",
        "print(df)\n",
        "print(f\"\\nEstadístico D: {D:.5f}\")\n",
        "print(f\"Valor crítico D_alpha: {D_critico:.5f}\")\n",
        "print(f\"Conclusión: {hipotesis}\")"
      ],
      "metadata": {
        "colab": {
          "base_uri": "https://localhost:8080/"
        },
        "id": "HWRLmsV750Ku",
        "outputId": "36b1cfa8-a853-440f-cc82-d53971427a60"
      },
      "execution_count": 8,
      "outputs": [
        {
          "output_type": "stream",
          "name": "stdout",
          "text": [
            "     i  Numeros Ordenados  F(i) = i/n  |F(i) - X(i)|  |X(i) - (i-1)/n|\n",
            "0    1              0.007        0.04          0.033             0.007\n",
            "1    2              0.048        0.08          0.032             0.008\n",
            "2    3              0.086        0.12          0.034             0.006\n",
            "3    4              0.157        0.16          0.003             0.037\n",
            "4    5              0.166        0.20          0.034             0.006\n",
            "5    6              0.178        0.24          0.062             0.022\n",
            "6    7              0.199        0.28          0.081             0.041\n",
            "7    8              0.298        0.32          0.022             0.018\n",
            "8    9              0.362        0.36          0.002             0.042\n",
            "9   10              0.368        0.40          0.032             0.008\n",
            "10  11              0.401        0.44          0.039             0.001\n",
            "11  12              0.411        0.48          0.069             0.029\n",
            "12  13              0.437        0.52          0.083             0.043\n",
            "13  14              0.478        0.56          0.082             0.042\n",
            "14  15              0.533        0.60          0.067             0.027\n",
            "15  16              0.545        0.64          0.095             0.055\n",
            "16  17              0.551        0.68          0.129             0.089\n",
            "17  18              0.591        0.72          0.129             0.089\n",
            "18  19              0.594        0.76          0.166             0.126\n",
            "19  20              0.631        0.80          0.169             0.129\n",
            "20  21              0.772        0.84          0.068             0.028\n",
            "21  22              0.787        0.88          0.093             0.053\n",
            "22  23              0.926        0.92          0.006             0.046\n",
            "23  24              0.932        0.96          0.028             0.012\n",
            "24  25              0.951        1.00          0.049             0.009\n",
            "\n",
            "Estadístico D: 0.16900\n",
            "Valor crítico D_alpha: 0.27200\n",
            "Conclusión: Se acepta H0 (Distribución uniforme)\n"
          ]
        }
      ]
    }
  ]
}