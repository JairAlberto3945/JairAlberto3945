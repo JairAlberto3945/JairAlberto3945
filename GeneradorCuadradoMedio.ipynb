{
  "nbformat": 4,
  "nbformat_minor": 0,
  "metadata": {
    "colab": {
      "provenance": [],
      "authorship_tag": "ABX9TyMq5pVOcsE73iHBYQWSUhU+",
      "include_colab_link": true
    },
    "kernelspec": {
      "name": "python3",
      "display_name": "Python 3"
    },
    "language_info": {
      "name": "python"
    }
  },
  "cells": [
    {
      "cell_type": "markdown",
      "metadata": {
        "id": "view-in-github",
        "colab_type": "text"
      },
      "source": [
        "<a href=\"https://colab.research.google.com/github/JairAlberto3945/JairAlberto3945/blob/main/GeneradorCuadradoMedio.ipynb\" target=\"_parent\"><img src=\"https://colab.research.google.com/assets/colab-badge.svg\" alt=\"Open In Colab\"/></a>"
      ]
    },
    {
      "cell_type": "markdown",
      "source": [
        "**Huerta Díaz Jair Alberto**\n",
        "\n",
        "Generador de cuadrado Medio\n",
        "            \n",
        "\n"
      ],
      "metadata": {
        "id": "qGP7GcxGcHBD"
      }
    },
    {
      "cell_type": "markdown",
      "source": [
        "Aqui el programa que yo realicé fué que al inicio te va a solicitar el valor de donde quieres partir para utilizar este método, y además de que también te solicita el número de iteraciones que requieres para la generación de tus números aleatorios, al final te imprime una tabla con los valores solicitados."
      ],
      "metadata": {
        "id": "i-TSMbSRyhsD"
      }
    },
    {
      "cell_type": "code",
      "execution_count": 1,
      "metadata": {
        "id": "HYlVYfmccFPH",
        "colab": {
          "base_uri": "https://localhost:8080/"
        },
        "outputId": "9e4d4d69-27b4-410a-90ed-cdf854dac419"
      },
      "outputs": [
        {
          "output_type": "stream",
          "name": "stdout",
          "text": [
            "Ingresa el número inicial (semilla): 1398\n",
            "¿Cuántos números aleatorios deseas generar?: 41\n",
            "Iteración Número Actual  Número al Cuadrado  Dígitos Extraídos   \n",
            "-----------------------------------------------------------------\n",
            "1         1398           1954404             9544                \n",
            "2         9544           91087936            0879                \n",
            "3         879            772641              7726                \n",
            "4         7726           59691076            6910                \n",
            "5         6910           47748100            7481                \n",
            "6         7481           55965361            9653                \n",
            "7         9653           93180409            1804                \n",
            "8         1804           3254416             2544                \n",
            "9         2544           6471936             4719                \n",
            "10        4719           22268961            2689                \n",
            "11        2689           7230721             2307                \n",
            "12        2307           5322249             3222                \n",
            "13        3222           10381284            3812                \n",
            "14        3812           14531344            5313                \n",
            "15        5313           28227969            2279                \n",
            "16        2279           5193841             1938                \n",
            "17        1938           3755844             7558                \n",
            "18        7558           57123364            1233                \n",
            "19        1233           1520289             5202                \n",
            "20        5202           27060804            0608                \n",
            "21        608            369664              3696                \n",
            "22        3696           13660416            6604                \n",
            "23        6604           43612816            6128                \n",
            "24        6128           37552384            5523                \n",
            "25        5523           30503529            5035                \n",
            "26        5035           25351225            3512                \n",
            "27        3512           12334144            3341                \n",
            "28        3341           11162281            1622                \n",
            "29        1622           2630884             6308                \n",
            "30        6308           39790864            7908                \n",
            "31        7908           62536464            5364                \n",
            "32        5364           28772496            7724                \n",
            "33        7724           59660176            6601                \n",
            "34        6601           43573201            5732                \n",
            "35        5732           32855824            8558                \n",
            "36        8558           73239364            2393                \n",
            "37        2393           5726449             7264                \n",
            "38        7264           52765696            7656                \n",
            "39        7656           58614336            6143                \n",
            "40        6143           37736449            7364                \n",
            "41        7364           54228496            2284                \n",
            "-----------------------------------------------------------------\n"
          ]
        }
      ],
      "source": [
        "def generador_cuadrado_medio(semilla, cantidad_de_numeros, longitud_digitos=4):\n",
        "    numero_actual = semilla\n",
        "    # Imprimir cabecera de la tabla\n",
        "    print(f\"{'Iteración':<10}{'Número Actual':<15}{'Número al Cuadrado':<20}{'Dígitos Extraídos':<20}\")\n",
        "    print(\"-\" * 65)\n",
        "\n",
        "    for iteracion in range(1, cantidad_de_numeros + 1):\n",
        "\n",
        "        # Elevar al cuadrado el número actual\n",
        "        cuadrado = numero_actual ** 2\n",
        "\n",
        "        # Convertir el cuadrado a string para manipular los dígitos\n",
        "        cuadrado_str = str(cuadrado)\n",
        "\n",
        "        # Asegurarse de que tenga suficientes dígitos\n",
        "        while len(cuadrado_str) < (longitud_digitos * 2):\n",
        "\n",
        "            cuadrado_str = \"0\" + cuadrado_str\n",
        "\n",
        "        # Calcular los índices para extraer los dígitos del medio\n",
        "        inicio = (len(cuadrado_str) - longitud_digitos) // 2\n",
        "        fin = inicio + longitud_digitos\n",
        "\n",
        "        # Extraer el valor del centro\n",
        "        numero_extraido = int(cuadrado_str[inicio:fin])\n",
        "\n",
        "        # Imprimir la iteración y las operaciones realizadas\n",
        "        print(f\"{iteracion:<10}{numero_actual:<15}{cuadrado:<20}{cuadrado_str[inicio:fin]:<20}\")\n",
        "\n",
        "        # Establecer el siguiente número\n",
        "        numero_actual = numero_extraido\n",
        "\n",
        "    print(\"-\" * 65)\n",
        "\n",
        "# Entrada del usuario\n",
        "semilla = int(input(\"Ingresa el número inicial (semilla): \"))\n",
        "cantidad_de_numeros = int(input(\"¿Cuántos números aleatorios deseas generar?: \"))\n",
        "\n",
        "# Llamada a la función con los valores ingresados por el usuario\n",
        "generador_cuadrado_medio(semilla, cantidad_de_numeros)\n"
      ]
    }
  ]
}