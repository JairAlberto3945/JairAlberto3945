{
  "nbformat": 4,
  "nbformat_minor": 0,
  "metadata": {
    "colab": {
      "provenance": [],
      "authorship_tag": "ABX9TyNvrUo65OdzmmOjZ1E17KSh",
      "include_colab_link": true
    },
    "kernelspec": {
      "name": "python3",
      "display_name": "Python 3"
    },
    "language_info": {
      "name": "python"
    }
  },
  "cells": [
    {
      "cell_type": "markdown",
      "metadata": {
        "id": "view-in-github",
        "colab_type": "text"
      },
      "source": [
        "<a href=\"https://colab.research.google.com/github/JairAlberto3945/JairAlberto3945/blob/main/Metodo_Rachas.ipynb\" target=\"_parent\"><img src=\"https://colab.research.google.com/assets/colab-badge.svg\" alt=\"Open In Colab\"/></a>"
      ]
    },
    {
      "cell_type": "markdown",
      "source": [
        "Huerta Díaz Jair Alberto\n",
        "\n",
        "***Método de Rachas***"
      ],
      "metadata": {
        "id": "3K-AA7y7ozYR"
      }
    },
    {
      "cell_type": "code",
      "execution_count": 1,
      "metadata": {
        "id": "6Xzfc2Waouqi"
      },
      "outputs": [],
      "source": [
        "import scipy.stats as stats\n",
        "import numpy as np"
      ]
    },
    {
      "cell_type": "code",
      "source": [
        "def prueba_de_rachas(datos, nivel_confianza=0.95):\n",
        "    # Convertir la secuencia a 1 si x_i >= x_{i-1}, 0 si x_i < x_{i-1}\n",
        "    secuencia = []\n",
        "    for i in range(1, len(datos)):\n",
        "        if datos[i] >= datos[i - 1]:\n",
        "            secuencia.append('1')\n",
        "        else:\n",
        "            secuencia.append('0')\n",
        "\n",
        "    # Imprimir la secuencia de rachas\n",
        "    print(f\"Secuencia de rachas (0 y 1): {' '.join(secuencia)}\")\n",
        "\n",
        "    # Contar las rachas\n",
        "    num_rachas = 1\n",
        "    for i in range(1, len(secuencia)):\n",
        "        if secuencia[i] != secuencia[i - 1]:\n",
        "            num_rachas += 1\n",
        "\n",
        "    # Contar los ceros y unos\n",
        "    n1 = secuencia.count('1')\n",
        "    n2 = secuencia.count('0')\n",
        "\n",
        "    # Verificar si hay suficientes datos para la prueba\n",
        "    if n1 == 0 or n2 == 0:\n",
        "        print(\"\\n⚠️ No se puede aplicar la prueba de rachas, solo hay un tipo de valor.\")\n",
        "        return\n",
        "\n",
        "    # Calcular la media y desviación estándar esperadas\n",
        "    media_esperada = ((2 * n1 * n2) / (n1 + n2)) + 1\n",
        "    desviacion_estandar = np.sqrt(((2 * n1 * n2) * (2 * n1 * n2 - n1 - n2)) / ((n1 + n2) ** 2 * (n1 + n2 - 1)))\n",
        "\n",
        "    # Calcular la estadística Z\n",
        "    Z = (num_rachas - media_esperada) / desviacion_estandar\n",
        "\n",
        "    # Obtener valor crítico para el nivel de confianza dado\n",
        "    valor_critico = stats.norm.ppf(1 - (1 - nivel_confianza) / 2)\n",
        "\n",
        "    # Determinar si se acepta o rechaza la hipótesis\n",
        "    print(\"\\nResultados de la prueba de rachas:\")\n",
        "    print(\"-\" * 50)\n",
        "    print(f\"{'Parámetro':<20}{'Valor'}\")\n",
        "    print(\"-\" * 50)\n",
        "    print(f\"{'Número de rachas':<20}{num_rachas}\")\n",
        "    print(f\"{'n1 (1)':<20}{n1}\")\n",
        "    print(f\"{'n2 (0)':<20}{n2}\")\n",
        "    print(f\"{'Media esperada':<20}{media_esperada:.4f}\")\n",
        "    print(f\"{'Desviación estándar':<20}{desviacion_estandar:.4f}\")\n",
        "    print(f\"{'Estadístico Z':<20}{Z:.4f}\")\n",
        "    print(f\"{'Valor crítico':<20}{valor_critico:.4f}\")\n",
        "    print(\"-\" * 50)\n",
        "\n",
        "    # Decisión sobre la hipótesis nula\n",
        "    if abs(Z) <= valor_critico:\n",
        "        print(\"\\n✅ No se rechaza la hipótesis nula. La secuencia es aleatoria.\")\n",
        "    else:\n",
        "        print(\"\\n❌ Se rechaza la hipótesis nula. La secuencia NO es aleatoria.\")\n",
        "\n",
        "# Lista de números aleatorios proporcionados\n",
        "datos = [\n",
        "    0.048, 0.926, 0.368, 0.787, 0.298, 0.591, 0.007, 0.437, 0.594,\n",
        "    0.199, 0.478, 0.551, 0.178, 0.086, 0.157, 0.166, 0.362, 0.411,\n",
        "    0.951, 0.401, 0.932, 0.533, 0.545, 0.772, 0.631\n",
        "]\n",
        "\n",
        "# Llamar a la función de la prueba de rachas con la lista proporcionada\n",
        "prueba_de_rachas(datos)\n"
      ],
      "metadata": {
        "colab": {
          "base_uri": "https://localhost:8080/"
        },
        "id": "RexThAg8o-Pg",
        "outputId": "fbb29c8e-cf4f-4ccc-eb3b-4c06af78e39f"
      },
      "execution_count": 3,
      "outputs": [
        {
          "output_type": "stream",
          "name": "stdout",
          "text": [
            "Secuencia de rachas (0 y 1): 1 0 1 0 1 0 1 1 0 1 1 0 0 1 1 1 1 1 0 1 0 1 1 0\n",
            "\n",
            "Resultados de la prueba de rachas:\n",
            "--------------------------------------------------\n",
            "Parámetro           Valor\n",
            "--------------------------------------------------\n",
            "Número de rachas    16\n",
            "n1 (1)              15\n",
            "n2 (0)              9\n",
            "Media esperada      12.2500\n",
            "Desviación estándar 2.2391\n",
            "Estadístico Z       1.6748\n",
            "Valor crítico       1.9600\n",
            "--------------------------------------------------\n",
            "\n",
            "✅ No se rechaza la hipótesis nula. La secuencia es aleatoria.\n"
          ]
        }
      ]
    },
    {
      "cell_type": "code",
      "source": [],
      "metadata": {
        "id": "ukogXfkOo_6R"
      },
      "execution_count": null,
      "outputs": []
    }
  ]
}