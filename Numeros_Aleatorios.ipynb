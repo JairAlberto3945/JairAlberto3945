{
  "nbformat": 4,
  "nbformat_minor": 0,
  "metadata": {
    "colab": {
      "provenance": [],
      "authorship_tag": "ABX9TyOBeDzDX8gBDMfM2Frc0F4B",
      "include_colab_link": true
    },
    "kernelspec": {
      "name": "python3",
      "display_name": "Python 3"
    },
    "language_info": {
      "name": "python"
    }
  },
  "cells": [
    {
      "cell_type": "markdown",
      "metadata": {
        "id": "view-in-github",
        "colab_type": "text"
      },
      "source": [
        "<a href=\"https://colab.research.google.com/github/JairAlberto3945/JairAlberto3945/blob/main/Numeros_Aleatorios.ipynb\" target=\"_parent\"><img src=\"https://colab.research.google.com/assets/colab-badge.svg\" alt=\"Open In Colab\"/></a>"
      ]
    },
    {
      "cell_type": "markdown",
      "source": [
        "**Huerta Díaz Jair Alberto**\n",
        "\n",
        "\n",
        "**Generador Congruencual**"
      ],
      "metadata": {
        "id": "PUox-be3v6pB"
      }
    },
    {
      "cell_type": "code",
      "execution_count": 16,
      "metadata": {
        "colab": {
          "base_uri": "https://localhost:8080/"
        },
        "id": "3OnuTxIm3rFS",
        "outputId": "53ea0537-9547-4d27-ddfd-86f4e8a4ff5b"
      },
      "outputs": [
        {
          "output_type": "stream",
          "name": "stdout",
          "text": [
            "Iteración   Valor Semilla (Xn)       Valor Normalizado\n",
            "-------------------------------------------------------\n",
            "1           7                        0.43750             \n",
            "2           4                        0.25000             \n",
            "3           5                        0.31250             \n",
            "4           10                       0.62500             \n",
            "5           3                        0.18750             \n",
            "6           0                        0.00000             \n",
            "7           1                        0.06250             \n",
            "8           6                        0.37500             \n",
            "9           15                       0.93750             \n",
            "10          12                       0.75000             \n",
            "11          13                       0.81250             \n",
            "12          2                        0.12500             \n",
            "13          11                       0.68750             \n",
            "14          8                        0.50000             \n",
            "15          9                        0.56250             \n",
            "16          14                       0.87500             \n",
            "17          7                        0.43750             \n",
            "18          4                        0.25000             \n",
            "19          5                        0.31250             \n",
            "20          10                       0.62500             \n",
            "21          3                        0.18750             \n",
            "22          0                        0.00000             \n",
            "23          1                        0.06250             \n",
            "24          6                        0.37500             \n",
            "25          15                       0.93750             \n",
            "26          12                       0.75000             \n",
            "27          13                       0.81250             \n",
            "28          2                        0.12500             \n",
            "29          11                       0.68750             \n",
            "30          8                        0.50000             \n",
            "31          9                        0.56250             \n",
            "32          14                       0.87500             \n",
            "\n",
            "Ciclo de Vida:\n",
            "Los números generados hasta que se repiten:\n",
            "[7, 4, 5, 10, 3, 0, 1, 6, 15, 12, 13, 2, 11, 8, 9, 14]\n",
            "\n",
            "El ciclo de vida se cumple correctamente.\n"
          ]
        }
      ],
      "source": [
        "def generador_congruencial(a, c, m, x0, max_iteraciones=1000):\n",
        "    # Inicializamos X0\n",
        "    x = x0\n",
        "\n",
        "    # Lista para almacenar los valores generados\n",
        "    secuencia = []\n",
        "\n",
        "    # Realizamos las iteraciones sin un límite estricto\n",
        "    for n in range(max_iteraciones):\n",
        "        # Calculamos el siguiente valor\n",
        "        x_next = (a * x + c) % m\n",
        "        # Añadimos el valor generado a la secuencia\n",
        "        secuencia.append(x)\n",
        "        # Actualizamos el valor de x para la siguiente iteración\n",
        "        x = x_next\n",
        "\n",
        "        # Si se repite el valor, es probable que haya un ciclo\n",
        "        if secuencia.count(x) > 1:\n",
        "            break\n",
        "\n",
        "    # Detectar el ciclo de vida\n",
        "    ciclo = []\n",
        "    for num in secuencia:\n",
        "        if num not in ciclo:\n",
        "            ciclo.append(num)\n",
        "        else:\n",
        "            break\n",
        "\n",
        "    # Verificar si el ciclo se cumple\n",
        "    cumple_ciclo = True\n",
        "    ciclo_repetido = secuencia[len(ciclo):]\n",
        "    if ciclo != ciclo_repetido:\n",
        "        cumple_ciclo = False\n",
        "\n",
        "    # Imprimir los resultados finales en la tabla\n",
        "    print(f\"{'Iteración':<12}{'Valor Semilla (Xn)':<25}{'Valor Normalizado'}\")\n",
        "    print(\"-\" * 55)\n",
        "    for i in range(len(secuencia)):\n",
        "        valor_normalizado = secuencia[i] / m  # Normalizamos el valor\n",
        "        print(f\"{i + 1:<12}{secuencia[i]:<25}{valor_normalizado:<20.5f}\")  # Imprimimos el valor normalizado\n",
        "\n",
        "    # Imprimir ciclo de vida y verificar si se cumple\n",
        "    print(\"\\nCiclo de Vida:\")\n",
        "    print(\"Los números generados hasta que se repiten:\")\n",
        "    print(ciclo)\n",
        "\n",
        "    if cumple_ciclo:\n",
        "        print(\"\\nEl ciclo de vida se cumple correctamente.\")\n",
        "    else:\n",
        "        print(\"\\nEl ciclo de vida NO se cumple correctamente.\")\n",
        "\n",
        "# Parámetros del generador congruencial\n",
        "a = 5      # Multiplicador\n",
        "c = 1      # Constante aditiva\n",
        "m = 16     # Módulo\n",
        "x0 = 7     # Semilla (valor inicial)\n",
        "max_iteraciones = 1000  # Número máximo de iteraciones, si no se detecta un ciclo antes\n",
        "\n",
        "# Ejecutamos la función\n",
        "generador_congruencial(a, c, m, x0, max_iteraciones)\n",
        "\n",
        "\n",
        "\n",
        "\n"
      ]
    }
  ]
}