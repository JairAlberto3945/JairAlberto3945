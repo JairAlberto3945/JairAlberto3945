{
  "nbformat": 4,
  "nbformat_minor": 0,
  "metadata": {
    "colab": {
      "provenance": [],
      "authorship_tag": "ABX9TyMgneb49yF+K1Ttdp9oYrLU",
      "include_colab_link": true
    },
    "kernelspec": {
      "name": "python3",
      "display_name": "Python 3"
    },
    "language_info": {
      "name": "python"
    }
  },
  "cells": [
    {
      "cell_type": "markdown",
      "metadata": {
        "id": "view-in-github",
        "colab_type": "text"
      },
      "source": [
        "<a href=\"https://colab.research.google.com/github/JairAlberto3945/JairAlberto3945/blob/main/Numeros_Aleatorios.ipynb\" target=\"_parent\"><img src=\"https://colab.research.google.com/assets/colab-badge.svg\" alt=\"Open In Colab\"/></a>"
      ]
    },
    {
      "cell_type": "markdown",
      "source": [
        "**Números Aleatorios**  \n",
        "Huerta Díaz Jair Alberto"
      ],
      "metadata": {
        "id": "Ro3AVAtyZPNy"
      }
    },
    {
      "cell_type": "code",
      "execution_count": 27,
      "metadata": {
        "id": "6X8WpJ-LVMjH"
      },
      "outputs": [],
      "source": [
        "import math\n",
        "import numpy as np\n",
        "from sympy import symbols, Eq, solve\n",
        "import pandas as pd\n",
        "import tabulate"
      ]
    },
    {
      "cell_type": "code",
      "source": [
        "from tabulate import tabulate\n",
        "\n",
        "# Parámetros del generador congruencial\n",
        "a = 4\n",
        "c = 7\n",
        "m = 22\n",
        "x0 = 3\n",
        "n = 50  # Número de valores a generar\n",
        "\n",
        "def generador_congruencial(a, c, m, x0, n):\n",
        "    # Lista para almacenar los números generados\n",
        "    numeros = []\n",
        "    # El valor inicial es la semilla\n",
        "    x = x0\n",
        "    for i in range(n):\n",
        "        x = (a * x + c) % m\n",
        "        numeros.append([i + 1, x0, x / m])  # Almacenar el iterador, la semilla, el valor generado y el valor normalizado\n",
        "        x0 = x  # Actualizamos x0 para la siguiente iteración\n",
        "    return numeros\n",
        "\n",
        "# Llamada a la función para generar los números\n",
        "resultados = generador_congruencial(a, c, m, x0, n)\n",
        "\n",
        "# Imprimir los resultados en formato de tabla\n",
        "headers = [\"Iteración\", \"Semilla\", \"Valor Normalizado\"]\n",
        "print(\"Tabla de números generados por el generador congruencial:\")\n",
        "print(tabulate(resultados, headers=headers, tablefmt=\"pretty\"))\n"
      ],
      "metadata": {
        "colab": {
          "base_uri": "https://localhost:8080/"
        },
        "id": "-jqAbf0wnA9R",
        "outputId": "714928eb-3aa4-4db7-e94f-091038030ac4"
      },
      "execution_count": 42,
      "outputs": [
        {
          "output_type": "stream",
          "name": "stdout",
          "text": [
            "Tabla de números generados por el generador congruencial:\n",
            "+-----------+---------+---------------------+\n",
            "| Iteración | Semilla |  Valor Normalizado  |\n",
            "+-----------+---------+---------------------+\n",
            "|     1     |    3    | 0.8636363636363636  |\n",
            "|     2     |   19    | 0.7727272727272727  |\n",
            "|     3     |   17    | 0.4090909090909091  |\n",
            "|     4     |    9    | 0.9545454545454546  |\n",
            "|     5     |   21    | 0.13636363636363635 |\n",
            "|     6     |    3    | 0.8636363636363636  |\n",
            "|     7     |   19    | 0.7727272727272727  |\n",
            "|     8     |   17    | 0.4090909090909091  |\n",
            "|     9     |    9    | 0.9545454545454546  |\n",
            "|    10     |   21    | 0.13636363636363635 |\n",
            "|    11     |    3    | 0.8636363636363636  |\n",
            "|    12     |   19    | 0.7727272727272727  |\n",
            "|    13     |   17    | 0.4090909090909091  |\n",
            "|    14     |    9    | 0.9545454545454546  |\n",
            "|    15     |   21    | 0.13636363636363635 |\n",
            "|    16     |    3    | 0.8636363636363636  |\n",
            "|    17     |   19    | 0.7727272727272727  |\n",
            "|    18     |   17    | 0.4090909090909091  |\n",
            "|    19     |    9    | 0.9545454545454546  |\n",
            "|    20     |   21    | 0.13636363636363635 |\n",
            "|    21     |    3    | 0.8636363636363636  |\n",
            "|    22     |   19    | 0.7727272727272727  |\n",
            "|    23     |   17    | 0.4090909090909091  |\n",
            "|    24     |    9    | 0.9545454545454546  |\n",
            "|    25     |   21    | 0.13636363636363635 |\n",
            "|    26     |    3    | 0.8636363636363636  |\n",
            "|    27     |   19    | 0.7727272727272727  |\n",
            "|    28     |   17    | 0.4090909090909091  |\n",
            "|    29     |    9    | 0.9545454545454546  |\n",
            "|    30     |   21    | 0.13636363636363635 |\n",
            "|    31     |    3    | 0.8636363636363636  |\n",
            "|    32     |   19    | 0.7727272727272727  |\n",
            "|    33     |   17    | 0.4090909090909091  |\n",
            "|    34     |    9    | 0.9545454545454546  |\n",
            "|    35     |   21    | 0.13636363636363635 |\n",
            "|    36     |    3    | 0.8636363636363636  |\n",
            "|    37     |   19    | 0.7727272727272727  |\n",
            "|    38     |   17    | 0.4090909090909091  |\n",
            "|    39     |    9    | 0.9545454545454546  |\n",
            "|    40     |   21    | 0.13636363636363635 |\n",
            "|    41     |    3    | 0.8636363636363636  |\n",
            "|    42     |   19    | 0.7727272727272727  |\n",
            "|    43     |   17    | 0.4090909090909091  |\n",
            "|    44     |    9    | 0.9545454545454546  |\n",
            "|    45     |   21    | 0.13636363636363635 |\n",
            "|    46     |    3    | 0.8636363636363636  |\n",
            "|    47     |   19    | 0.7727272727272727  |\n",
            "|    48     |   17    | 0.4090909090909091  |\n",
            "|    49     |    9    | 0.9545454545454546  |\n",
            "|    50     |   21    | 0.13636363636363635 |\n",
            "+-----------+---------+---------------------+\n"
          ]
        }
      ]
    }
  ]
}