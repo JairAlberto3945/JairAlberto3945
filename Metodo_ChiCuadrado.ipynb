{
  "nbformat": 4,
  "nbformat_minor": 0,
  "metadata": {
    "colab": {
      "provenance": [],
      "authorship_tag": "ABX9TyNNiFZDVsXUP3qC9NPhvUNL",
      "include_colab_link": true
    },
    "kernelspec": {
      "name": "python3",
      "display_name": "Python 3"
    },
    "language_info": {
      "name": "python"
    }
  },
  "cells": [
    {
      "cell_type": "markdown",
      "metadata": {
        "id": "view-in-github",
        "colab_type": "text"
      },
      "source": [
        "<a href=\"https://colab.research.google.com/github/JairAlberto3945/JairAlberto3945/blob/main/Metodo_ChiCuadrado.ipynb\" target=\"_parent\"><img src=\"https://colab.research.google.com/assets/colab-badge.svg\" alt=\"Open In Colab\"/></a>"
      ]
    },
    {
      "cell_type": "markdown",
      "source": [
        "***Huerta Díaz Jair Alberto***\n",
        "\n",
        "Método de Chi-Cuadrada"
      ],
      "metadata": {
        "id": "qI-ssYOe8dHp"
      }
    },
    {
      "cell_type": "code",
      "execution_count": 2,
      "metadata": {
        "id": "l2kWvGQ57DHI"
      },
      "outputs": [],
      "source": [
        "import numpy as np\n",
        "import scipy.stats as stats\n",
        "import pandas as pd"
      ]
    },
    {
      "cell_type": "code",
      "source": [
        "# Insertamos o modificamos los numeros aleatorios proporcionados\n",
        "numeros = np.array([\n",
        "    0.048, 0.926, 0.368, 0.787, 0.298, 0.591, 0.007, 0.437, 0.594,\n",
        "    0.199, 0.478, 0.551, 0.178, 0.086, 0.157, 0.166, 0.362, 0.411,\n",
        "    0.951, 0.401, 0.932, 0.533, 0.545, 0.772, 0.631\n",
        "])\n",
        "# Definir número de intervalos\n",
        "k = int(np.sqrt(len(numeros)))  # Regla de Sturges para definir intervalos\n",
        "print(k)"
      ],
      "metadata": {
        "colab": {
          "base_uri": "https://localhost:8080/"
        },
        "id": "uoykLH6Z7JJV",
        "outputId": "4de0b9f3-44df-44d0-c4e2-ae94dde738f8"
      },
      "execution_count": 5,
      "outputs": [
        {
          "output_type": "stream",
          "name": "stdout",
          "text": [
            "5\n"
          ]
        }
      ]
    },
    {
      "cell_type": "code",
      "source": [
        "# Crear histogramas\n",
        "observed_freq, bins = np.histogram(numeros, bins=k, range=(0, 1))\n",
        "expected_freq = np.full(k, len(numeros) / k)  # Frecuencias esperadas\n",
        "# Calcular estadístico Chi-Cuadrado\n",
        "chi2_stat = np.sum((observed_freq - expected_freq) ** 2 / expected_freq)\n",
        "print(chi2_stat)"
      ],
      "metadata": {
        "colab": {
          "base_uri": "https://localhost:8080/"
        },
        "id": "ud9Lfd7B7oVQ",
        "outputId": "c2273beb-ddc6-4a23-ee04-4f73d51dfe5a"
      },
      "execution_count": 7,
      "outputs": [
        {
          "output_type": "stream",
          "name": "stdout",
          "text": [
            "6.4\n"
          ]
        }
      ]
    },
    {
      "cell_type": "code",
      "source": [
        "# Grados de libertad\n",
        "df = k - 1\n",
        "\n",
        "# Valor crítico\n",
        "alpha = 0.05\n",
        "chi2_critical = stats.chi2.ppf(1 - alpha, df)\n",
        "\n",
        "# Evaluar hipótesis\n",
        "hipotesis = \"Se acepta H0 (Distribución uniforme)\" if chi2_stat <= chi2_critical else \"Se rechaza H0 (No es uniforme)\"\n"
      ],
      "metadata": {
        "id": "AS9dBQWD71LS"
      },
      "execution_count": 11,
      "outputs": []
    },
    {
      "cell_type": "code",
      "source": [
        "# Crear tabla de resultados\n",
        "df_resultados = pd.DataFrame({\n",
        "    'Intervalo': [f\"{bins[i]:.2f} - {bins[i+1]:.2f}\" for i in range(k)],\n",
        "    'Frecuencia Observada': observed_freq,\n",
        "    'Frecuencia Esperada': expected_freq,\n",
        "    '(O-E)^2 / E': (observed_freq - expected_freq) ** 2 / expected_freq\n",
        "})\n",
        "\n",
        "# Mostrar resultados\n",
        "print(df_resultados)\n",
        "print(f\"\\nEstadístico Chi-Cuadrado: {chi2_stat:.5f}\")\n",
        "print(f\"Valor crítico Chi-Cuadrado: {chi2_critical:.5f}\")\n",
        "print(f\"Conclusión: {hipotesis}\")\n"
      ],
      "metadata": {
        "colab": {
          "base_uri": "https://localhost:8080/"
        },
        "id": "rRQpChSV8XCs",
        "outputId": "297071b6-42ab-4474-e13e-a60ad7c60090"
      },
      "execution_count": 12,
      "outputs": [
        {
          "output_type": "stream",
          "name": "stdout",
          "text": [
            "     Intervalo  Frecuencia Observada  Frecuencia Esperada  (O-E)^2 / E\n",
            "0  0.00 - 0.20                     7                  5.0          0.8\n",
            "1  0.20 - 0.40                     3                  5.0          0.8\n",
            "2  0.40 - 0.60                     9                  5.0          3.2\n",
            "3  0.60 - 0.80                     3                  5.0          0.8\n",
            "4  0.80 - 1.00                     3                  5.0          0.8\n",
            "\n",
            "Estadístico Chi-Cuadrado: 6.40000\n",
            "Valor crítico Chi-Cuadrado: 9.48773\n",
            "Conclusión: Se acepta H0 (Distribución uniforme)\n"
          ]
        }
      ]
    }
  ]
}