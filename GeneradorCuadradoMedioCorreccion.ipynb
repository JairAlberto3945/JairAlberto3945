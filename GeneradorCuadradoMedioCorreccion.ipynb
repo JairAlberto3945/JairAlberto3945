{
  "nbformat": 4,
  "nbformat_minor": 0,
  "metadata": {
    "colab": {
      "provenance": [],
      "authorship_tag": "ABX9TyNzNLh9sanFIYvqjHnXs7iZ",
      "include_colab_link": true
    },
    "kernelspec": {
      "name": "python3",
      "display_name": "Python 3"
    },
    "language_info": {
      "name": "python"
    }
  },
  "cells": [
    {
      "cell_type": "markdown",
      "metadata": {
        "id": "view-in-github",
        "colab_type": "text"
      },
      "source": [
        "<a href=\"https://colab.research.google.com/github/JairAlberto3945/JairAlberto3945/blob/main/GeneradorCuadradoMedioCorreccion.ipynb\" target=\"_parent\"><img src=\"https://colab.research.google.com/assets/colab-badge.svg\" alt=\"Open In Colab\"/></a>"
      ]
    },
    {
      "cell_type": "markdown",
      "source": [
        "**Huerta Díaz Jair Alberto**\n",
        "\n",
        "Generador de cuadrado Medio\n",
        "            \n",
        "\n"
      ],
      "metadata": {
        "id": "qGP7GcxGcHBD"
      }
    },
    {
      "cell_type": "markdown",
      "source": [
        "Aqui el programa que yo realicé fué que al inicio te va a solicitar el valor inicial ***Mayor a 4 digitos***, además de que también te solicita el número de iteraciones que requieres para la generación de tus números aleatorios."
      ],
      "metadata": {
        "id": "i-TSMbSRyhsD"
      }
    },
    {
      "cell_type": "code",
      "source": [
        "def generador_cuadrado_medio(semilla, cantidad_de_numeros, longitud_digitos=4):\n",
        "    numero_actual = semilla\n",
        "    historial = set()\n",
        "    ciclo_encontrado = False\n",
        "    ciclo_de_vida = []  # Lista para almacenar el ciclo de vida\n",
        "\n",
        "    # Imprimir cabecera de la tabla\n",
        "    print(f\"{'Iteración':<10}{'Número Actual':<15}{'Número al Cuadrado':<20}{'Dígitos Extraídos':<20}{'Normalizado':<15}\")\n",
        "    print(\"-\" * 90)\n",
        "\n",
        "    for iteracion in range(1, cantidad_de_numeros + 1):\n",
        "\n",
        "        # Verificar si el número ya se repitió (ciclo encontrado)\n",
        "        if numero_actual in historial:\n",
        "            print(f\"\\n⚠️ Ciclo encontrado. El valor {numero_actual} se repitió. Ciclo detenido.\")\n",
        "            ciclo_encontrado = True\n",
        "            break\n",
        "\n",
        "        # Agregar el número al historial para detectar ciclos\n",
        "        historial.add(numero_actual)\n",
        "\n",
        "        # Añadir el número actual al ciclo de vida\n",
        "        ciclo_de_vida.append(numero_actual)\n",
        "\n",
        "        # Elevar al cuadrado el número actual\n",
        "        cuadrado = numero_actual ** 2\n",
        "\n",
        "        # Convertir el cuadrado a string para manipular los dígitos\n",
        "        cuadrado_str = str(cuadrado)\n",
        "\n",
        "        # Asegurarse de que tenga suficientes dígitos (rellenar con ceros si es necesario)\n",
        "        while len(cuadrado_str) < (longitud_digitos * 2):\n",
        "            cuadrado_str = \"0\" + cuadrado_str\n",
        "\n",
        "        # Calcular los índices para extraer los dígitos del medio\n",
        "        inicio = (len(cuadrado_str) - longitud_digitos) // 2\n",
        "        fin = inicio + longitud_digitos\n",
        "\n",
        "        # Extraer el valor del centro\n",
        "        numero_extraido = int(cuadrado_str[inicio:fin])\n",
        "\n",
        "        # Normalizar el número extraído\n",
        "        numero_normalizado = numero_extraido / (10 ** longitud_digitos)\n",
        "\n",
        "        # Imprimir la iteración y las operaciones realizadas\n",
        "        print(f\"{iteracion:<10}{numero_actual:<15}{cuadrado:<20}{cuadrado_str[inicio:fin]:<20}{numero_normalizado:<15.6f}\")\n",
        "\n",
        "        # Establecer el siguiente número\n",
        "        numero_actual = numero_extraido\n",
        "\n",
        "    print(\"-\" * 90)\n",
        "\n",
        "    # Si no hubo ciclo, mostrar el mensaje final\n",
        "    if not ciclo_encontrado:\n",
        "        print(\"\\n✅ Proceso terminado sin ciclos detectados.\")\n",
        "    else:\n",
        "        print(f\"\\n🔄 Ciclo de vida del valor semilla: {ciclo_de_vida}\")\n",
        "\n",
        "    # Imprimir el ciclo de vida como lista al final\n",
        "    print(f\"\\n📚 Lista del ciclo de vida completo: {ciclo_de_vida}\")\n",
        "\n",
        "\n",
        "# Entrada del usuario\n",
        "semilla = int(input(\"Ingresa el número inicial (semilla): \"))\n",
        "cantidad_de_numeros = int(input(\"¿Cuántos números aleatorios deseas generar?: \"))\n",
        "\n",
        "# Llamada a la función con los valores ingresados por el usuario\n",
        "generador_cuadrado_medio(semilla, cantidad_de_numeros)\n",
        "\n"
      ],
      "metadata": {
        "colab": {
          "base_uri": "https://localhost:8080/"
        },
        "id": "5HbTdKv6lLGT",
        "outputId": "11b56c9a-4b6c-4989-a71d-057509185635"
      },
      "execution_count": 12,
      "outputs": [
        {
          "output_type": "stream",
          "name": "stdout",
          "text": [
            "Ingresa el número inicial (semilla): 1987\n",
            "¿Cuántos números aleatorios deseas generar?: 50\n",
            "Iteración Número Actual  Número al Cuadrado  Dígitos Extraídos   Normalizado    \n",
            "------------------------------------------------------------------------------------------\n",
            "1         1987           3948169             9481                0.948100       \n",
            "2         9481           89889361            8893                0.889300       \n",
            "3         8893           79085449            0854                0.085400       \n",
            "4         854            729316              7293                0.729300       \n",
            "5         7293           53187849            1878                0.187800       \n",
            "6         1878           3526884             5268                0.526800       \n",
            "7         5268           27751824            7518                0.751800       \n",
            "8         7518           56520324            5203                0.520300       \n",
            "9         5203           27071209            0712                0.071200       \n",
            "10        712            506944              5069                0.506900       \n",
            "11        5069           25694761            6947                0.694700       \n",
            "12        6947           48260809            2608                0.260800       \n",
            "13        2608           6801664             8016                0.801600       \n",
            "14        8016           64256256            2562                0.256200       \n",
            "15        2562           6563844             5638                0.563800       \n",
            "16        5638           31787044            7870                0.787000       \n",
            "17        7870           61936900            9369                0.936900       \n",
            "18        9369           87778161            7781                0.778100       \n",
            "19        7781           60543961            5439                0.543900       \n",
            "20        5439           29582721            5827                0.582700       \n",
            "21        5827           33953929            9539                0.953900       \n",
            "22        9539           90992521            9925                0.992500       \n",
            "23        9925           98505625            5056                0.505600       \n",
            "24        5056           25563136            5631                0.563100       \n",
            "25        5631           31708161            7081                0.708100       \n",
            "26        7081           50140561            1405                0.140500       \n",
            "27        1405           1974025             9740                0.974000       \n",
            "28        9740           94867600            8676                0.867600       \n",
            "29        8676           75272976            2729                0.272900       \n",
            "30        2729           7447441             4474                0.447400       \n",
            "31        4474           20016676            0166                0.016600       \n",
            "32        166            27556               0275                0.027500       \n",
            "33        275            75625               0756                0.075600       \n",
            "34        756            571536              5715                0.571500       \n",
            "35        5715           32661225            6612                0.661200       \n",
            "36        6612           43718544            7185                0.718500       \n",
            "37        7185           51624225            6242                0.624200       \n",
            "38        6242           38962564            9625                0.962500       \n",
            "39        9625           92640625            6406                0.640600       \n",
            "40        6406           41036836            0368                0.036800       \n",
            "41        368            135424              1354                0.135400       \n",
            "42        1354           1833316             8333                0.833300       \n",
            "43        8333           69438889            4388                0.438800       \n",
            "44        4388           19254544            2545                0.254500       \n",
            "45        2545           6477025             4770                0.477000       \n",
            "46        4770           22752900            7529                0.752900       \n",
            "47        7529           56685841            6858                0.685800       \n",
            "48        6858           47032164            0321                0.032100       \n",
            "49        321            103041              1030                0.103000       \n",
            "50        1030           1060900             0609                0.060900       \n",
            "------------------------------------------------------------------------------------------\n",
            "\n",
            "✅ Proceso terminado sin ciclos detectados.\n",
            "\n",
            "📚 Lista del ciclo de vida completo: [1987, 9481, 8893, 854, 7293, 1878, 5268, 7518, 5203, 712, 5069, 6947, 2608, 8016, 2562, 5638, 7870, 9369, 7781, 5439, 5827, 9539, 9925, 5056, 5631, 7081, 1405, 9740, 8676, 2729, 4474, 166, 275, 756, 5715, 6612, 7185, 6242, 9625, 6406, 368, 1354, 8333, 4388, 2545, 4770, 7529, 6858, 321, 1030]\n"
          ]
        }
      ]
    }
  ]
}